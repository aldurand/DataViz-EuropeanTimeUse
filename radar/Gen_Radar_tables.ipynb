{
 "cells": [
  {
   "cell_type": "markdown",
   "metadata": {},
   "source": [
    "# <center> Generate tables for Radar chart "
   ]
  },
  {
   "cell_type": "code",
   "execution_count": 4,
   "metadata": {
    "collapsed": true
   },
   "outputs": [],
   "source": [
    "import numpy as np\n",
    "import os\n",
    "import pandas as pd\n",
    "import re"
   ]
  },
  {
   "cell_type": "code",
   "execution_count": 7,
   "metadata": {
    "collapsed": true
   },
   "outputs": [],
   "source": [
    "directory = \"output_tables/\"\n",
    "output_directory = \"radar_\""
   ]
  },
  {
   "cell_type": "code",
   "execution_count": 8,
   "metadata": {},
   "outputs": [],
   "source": [
    "#print(\"Created Files :\")\n",
    "columns = [\"group\", \"axis\", \"value\"] \n",
    "for r, d, f in os.walk(directory):\n",
    "    for file in f:\n",
    "        short_name = file.replace(\"data_\",\"\")\n",
    "        shorter_name = short_name.replace(\".csv\", \"\")\n",
    "        # Get data\n",
    "        table_name = str(os.path.join(r, file))\n",
    "        df = pd.read_csv(table_name)\n",
    "        # Drop NaN\n",
    "        df = df.dropna()\n",
    "        # Get rid of unnecessary variables\n",
    "        del df['total_constraint']\n",
    "        del df['total_leisure']\n",
    "        del df['country']\n",
    "        # Get means of variables\n",
    "        df = df.mean()\n",
    "        # Transfrom means to Data frame\n",
    "        df = pd.DataFrame(df)\n",
    "        # There a little problem with the index so let's reset it\n",
    "        df = df.reset_index()\n",
    "        df.columns = ['axis', 'value']\n",
    "        # Make a data frame with the names of our table \n",
    "        arr = [np.array([shorter_name,shorter_name,shorter_name,shorter_name,shorter_name,shorter_name])]\n",
    "        arr = pd.DataFrame(arr)\n",
    "        arr = arr.T\n",
    "        frame = [arr, df]\n",
    "        # Concatenate axis and mean values\n",
    "        result = pd.concat(frame, axis=1)\n",
    "        result.columns = ['group', 'axis', 'value']\n",
    "        result['axis'].replace({'basic_needs': 'Basic needs', 'pro_study': 'Job or school', \n",
    "                                'household_family': 'Family home', 'leisure_media': 'Media',\n",
    "                               'leisure_sports_outdoors':'Outdoors / Sports','leisure_social_meetings':'Social meetings'})\n",
    "        print(result)\n",
    "        result.to_csv(output_directory + short_name, sep=',')"
   ]
  },
  {
   "cell_type": "code",
   "execution_count": null,
   "metadata": {
    "collapsed": true
   },
   "outputs": [],
   "source": [
    "# Code below for testing\n",
    "\n",
    "#dff = pd.read_csv('output_tables/data_2000_M_D1-7.csv')\n",
    "#del dff['total_constraint']\n",
    "#del dff['total_leisure']\n",
    "#del dff['country']\n",
    "# dff = dff.mean()\n",
    "# dff = pd.DataFrame(dff)\n",
    "# dff = dff.reset_index()\n",
    "# dff.columns = ['axis', 'value']\n",
    "# arr = [np.array(['csv1', 'csv1', 'csv1', 'csv1', 'csv1', 'csv1'])]\n",
    "# arr = pd.DataFrame(arr)\n",
    "# arr = arr.T\n",
    "# frame = [arr, dff]\n",
    "# result = pd.concat(frame, axis=1)\n",
    "#del result['axis']\n",
    "# print(result)\n",
    "# result.columns = ['group', 'axis', 'value']\n",
    "# result.to_csv('/home/heber/Desktop/csv1.csv', sep=',')"
   ]
  },
  {
   "cell_type": "code",
   "execution_count": null,
   "metadata": {
    "collapsed": true
   },
   "outputs": [],
   "source": [
    "pwd"
   ]
  }
 ],
 "metadata": {
  "kernelspec": {
   "display_name": "Python 3",
   "language": "python",
   "name": "python3"
  },
  "language_info": {
   "codemirror_mode": {
    "name": "ipython",
    "version": 3
   },
   "file_extension": ".py",
   "mimetype": "text/x-python",
   "name": "python",
   "nbconvert_exporter": "python",
   "pygments_lexer": "ipython3",
   "version": "3.6.1"
  }
 },
 "nbformat": 4,
 "nbformat_minor": 2
}
